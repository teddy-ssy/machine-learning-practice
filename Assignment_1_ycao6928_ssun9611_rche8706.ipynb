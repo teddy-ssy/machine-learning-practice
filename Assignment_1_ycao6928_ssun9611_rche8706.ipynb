{
 "cells": [
  {
   "cell_type": "markdown",
   "metadata": {
    "id": "xSLnEudzPmgt",
    "colab_type": "text"
   },
   "source": [
    "# COMP5318 - Machine Learning and Data Mining - S1 2018"
   ]
  },
  {
   "cell_type": "markdown",
   "metadata": {
    "id": "KcYZJPr8frtm",
    "colab_type": "text"
   },
   "source": [
    "## Assignment 1\n",
    "\n",
    "#### Group Members \n",
    "\n",
    "\n",
    "*   Yue Cao 440315850\n",
    "*   Shengyuan Sun 460257820\n",
    "* Rui Chen 470111585\n",
    "\n",
    "**Tutors**\n",
    "\n",
    "*  Dongang Wang\n",
    "*   Aswani Kumar\n"
   ]
  },
  {
   "cell_type": "markdown",
   "metadata": {
    "id": "SWaYRDppXkSP",
    "colab_type": "text"
   },
   "source": [
    "**README**\n",
    "\n",
    "Instruction to run code: \n",
    "\n",
    "All code blocks are to be executed in order, except for code block with comment 'DO NOT RUN' written on the first line. \n",
    "\n",
    "Code blocks used to draw figure should not be be re-run. All figures are shown in the output. They are the ones marked with 'DO NOT RUN'."
   ]
  },
  {
   "cell_type": "markdown",
   "metadata": {
    "id": "nOWmWCq3gEwF",
    "colab_type": "text"
   },
   "source": [
    "\n",
    "\n",
    "---\n",
    "\n"
   ]
  },
  {
   "cell_type": "markdown",
   "metadata": {
    "id": "Dsk4FUnOUx3s",
    "colab_type": "text"
   },
   "source": [
    "## Authenticate and create PyDrive client."
   ]
  },
  {
   "cell_type": "markdown",
   "metadata": {
    "id": "OcFUG6SMVzkY",
    "colab_type": "text"
   },
   "source": [
    "You will be prompted with a link to click on, and give permission to Google Colab to access your Google Drive. If you don't want to give permission to your personal google drive, create a new gmail account, and complete this process using the new account."
   ]
  },
  {
   "cell_type": "code",
   "execution_count": 0,
   "metadata": {
    "id": "Z_FCt_RtAnpE",
    "colab_type": "code",
    "colab": {
     "autoexec": {
      "startup": false,
      "wait_interval": 0.0
     }
    }
   },
   "outputs": [],
   "source": [
    "!pip install -U -q PyDrive\n",
    "\n",
    "from pydrive.auth import GoogleAuth\n",
    "from pydrive.drive import GoogleDrive\n",
    "from google.colab import auth\n",
    "from oauth2client.client import GoogleCredentials\n",
    "\n",
    "\n",
    "# 1. Authenticate and create the PyDrive client.\n",
    "auth.authenticate_user()\n",
    "gauth = GoogleAuth()\n",
    "gauth.credentials = GoogleCredentials.get_application_default()\n",
    "drive = GoogleDrive(gauth)\n",
    "\n",
    "# PyDrive reference:\n",
    "# https://googledrive.github.io/PyDrive/docs/build/html/index.html\n"
   ]
  },
  {
   "cell_type": "markdown",
   "metadata": {
    "id": "eaAbndQYVTKB",
    "colab_type": "text"
   },
   "source": [
    "## Import data\n",
    "Locate the \"Data\" folder in your drive. Right click and click \"share\" to get the ID of the folder. Replace < Data folder id > with the id you got. (id should look like \"1j8oG_vCmum965Ghg8LdbSkfj-lfi-AZ0\" )"
   ]
  },
  {
   "cell_type": "code",
   "execution_count": 4,
   "metadata": {
    "id": "A2siYFZuM2JJ",
    "colab_type": "code",
    "colab": {
     "autoexec": {
      "startup": false,
      "wait_interval": 0.0
     },
     "base_uri": "https://localhost:8080/",
     "height": 86.0
    },
    "outputId": "5f2de8da-db7a-4765-deca-b1649fb08b32",
    "executionInfo": {
     "status": "ok",
     "timestamp": 1.525486595825E12,
     "user_tz": -600.0,
     "elapsed": 913.0,
     "user": {
      "displayName": "Yue Cao",
      "photoUrl": "https://lh3.googleusercontent.com/a/default-user=s128",
      "userId": "104957148150622008767"
     }
    }
   },
   "outputs": [
    {
     "name": "stdout",
     "output_type": "stream",
     "text": [
      "title: training_desc.csv, id: 1kSoeoaK_TsTHnhSGPXOLNy43jd20G8bH\n",
      "title: training_data.csv, id: 12-B9GpferXatOB4ACo7GanQ2iBt5O-66\n",
      "title: test_data.csv, id: 1y_YySFyibYYwQtJr6v7Qf81FqULwK7Fk\n",
      "title: training_labels.csv, id: 1cqErOBjBB91P_xrt4TKuZ91OfTLoUYmx\n"
     ]
    }
   ],
   "source": [
    "\n",
    "file_list = drive.ListFile({'q': \"'1j8oG_vCmum9YuVWP8LdbSkfj-lfi-AZ0' in parents and trashed=false\"}).GetList()\n",
    "for file1 in file_list:\n",
    "  print('title: %s, id: %s' % (file1['title'], file1['id']))\n"
   ]
  },
  {
   "cell_type": "markdown",
   "metadata": {
    "id": "iGOTPZQWWlf8",
    "colab_type": "text"
   },
   "source": [
    "### Pulling data into Google Colab."
   ]
  },
  {
   "cell_type": "code",
   "execution_count": 0,
   "metadata": {
    "id": "vo17S6sITJfa",
    "colab_type": "code",
    "colab": {
     "autoexec": {
      "startup": false,
      "wait_interval": 0.0
     }
    }
   },
   "outputs": [],
   "source": [
    "training_data_downloaded = drive.CreateFile({'id': '12-B9GpferXatOB4ACo7GanQ2iBt5O-66'})\n",
    "training_data_downloaded.GetContentFile('training_data.csv')\n",
    "\n",
    "training_desc_downloaded = drive.CreateFile({'id': '1kSoeoaK_TsTHnhSGPXOLNy43jd20G8bH'})\n",
    "training_desc_downloaded.GetContentFile('training_desc.csv')\n",
    "\n",
    "training_labels_downloaded = drive.CreateFile({'id': '1cqErOBjBB91P_xrt4TKuZ91OfTLoUYmx'})\n",
    "training_labels_downloaded.GetContentFile('training_labels.csv')\n",
    "\n",
    "test_data_downloaded = drive.CreateFile({'id': '1y_YySFyibYYwQtJr6v7Qf81FqULwK7Fk'})\n",
    "test_data_downloaded.GetContentFile('test_data.csv') "
   ]
  },
  {
   "cell_type": "markdown",
   "metadata": {
    "id": "QhI6TXRtWsl7",
    "colab_type": "text"
   },
   "source": [
    "### Load data files\n",
    "This section load in the training data and training label. Please execute the following code in order. "
   ]
  },
  {
   "cell_type": "code",
   "execution_count": 0,
   "metadata": {
    "id": "saVLVnGvT59I",
    "colab_type": "code",
    "colab": {
     "autoexec": {
      "startup": false,
      "wait_interval": 0.0
     }
    }
   },
   "outputs": [],
   "source": [
    "import io\n",
    "import numpy as np\n",
    "from scipy.sparse import *\n",
    "from scipy import *\n",
    "from numpy import *\n",
    "import csv\n"
   ]
  },
  {
   "cell_type": "markdown",
   "metadata": {
    "id": "tUD1r1ZqrKXo",
    "colab_type": "text"
   },
   "source": [
    "This code load in the training data. \n",
    "\n",
    "To avoid issue with memory consumption, it is loaded as a sparse matrix with the type float32 instead of float64."
   ]
  },
  {
   "cell_type": "code",
   "execution_count": 0,
   "metadata": {
    "id": "KmXqZluuq2Pj",
    "colab_type": "code",
    "colab": {
     "autoexec": {
      "startup": false,
      "wait_interval": 0.0
     }
    }
   },
   "outputs": [],
   "source": [
    "S = dok_matrix((20104,13626), dtype=float32) \n",
    "\n",
    "f = open(\"training_data.csv\")\n",
    "reader = csv.reader(f)\n",
    "i= 0 \n",
    "app = []\n",
    "for line in reader:\n",
    "    S[i] = line[1:13627] #column 1 to 13627 are the actual TF-IDF features \n",
    "    app.append(line[0]) #column 0 is the app name\n",
    "    i = i+1"
   ]
  },
  {
   "cell_type": "markdown",
   "metadata": {
    "id": "sBaSJic_ryDR",
    "colab_type": "text"
   },
   "source": [
    "This coode loads the training label into a dictionary, for easy retrival of label associated with app name. \n",
    "The key of the dictionary is app name and the value is its corresponding category. "
   ]
  },
  {
   "cell_type": "code",
   "execution_count": 5,
   "metadata": {
    "id": "U4hjdOn2rpec",
    "colab_type": "code",
    "colab": {
     "autoexec": {
      "startup": false,
      "wait_interval": 0.0
     },
     "base_uri": "https://localhost:8080/",
     "height": 34.0
    },
    "outputId": "6e6c9066-032a-43cf-a67b-55449a2098ca",
    "executionInfo": {
     "status": "ok",
     "timestamp": 1.525627607591E12,
     "user_tz": -600.0,
     "elapsed": 733.0,
     "user": {
      "displayName": "Yue Cao",
      "photoUrl": "https://lh3.googleusercontent.com/a/default-user=s128",
      "userId": "104957148150622008767"
     }
    }
   },
   "outputs": [
    {
     "name": "stdout",
     "output_type": "stream",
     "text": [
      "20104\n"
     ]
    }
   ],
   "source": [
    "f = open(\"training_labels.csv\",'r')\n",
    "reader = csv.reader(f)\n",
    "from collections import defaultdict\n",
    "apptolabel = defaultdict(str)\n",
    "i=0\n",
    "for line in reader:\n",
    "    apptolabel[line[0]] = line[1]\n",
    "    i=i+1\n",
    "    \n",
    "print(i) #check that correct number of lines are read \n",
    "    "
   ]
  },
  {
   "cell_type": "markdown",
   "metadata": {
    "id": "hiO7yWgbsj4J",
    "colab_type": "text"
   },
   "source": [
    "This code use the app name to retrieve the app label (from the previously built dictionary). \n",
    "\n",
    "The labels are stored in the variable 'truelabel'."
   ]
  },
  {
   "cell_type": "code",
   "execution_count": 0,
   "metadata": {
    "id": "GmARpCI4skZY",
    "colab_type": "code",
    "colab": {
     "autoexec": {
      "startup": false,
      "wait_interval": 0.0
     }
    }
   },
   "outputs": [],
   "source": [
    "truelabel = []\n",
    "for thisapp in app:\n",
    "    truelabel.append(apptolabel[thisapp])\n",
    "    "
   ]
  },
  {
   "cell_type": "markdown",
   "metadata": {
    "id": "lGSVTlic856e",
    "colab_type": "text"
   },
   "source": [
    "Convert each app label into one-hot encoding"
   ]
  },
  {
   "cell_type": "code",
   "execution_count": 0,
   "metadata": {
    "id": "wemlZZge86JV",
    "colab_type": "code",
    "colab": {
     "autoexec": {
      "startup": false,
      "wait_interval": 0.0
     }
    }
   },
   "outputs": [],
   "source": [
    "dicts={}\n",
    "values = list(set(truelabel))\n",
    "index= 0\n",
    "for i in values:\n",
    "        dicts[i] = index #for each category, convert them into numerical representation\n",
    "        index = index+1  #eg, 'Education' get mapped to 1, 'Sports' get mapped to 2 etc\n",
    "len(dicts)\n",
    "\n",
    "onehot = dok_matrix((20104,30), dtype=int32) \n",
    "\n",
    "i = 0\n",
    "for thislabel in truelabel:\n",
    "    position = dicts[thislabel] #convert to one hot encoding\n",
    "    onehot[i,position] = 1 #for number 2 ,  the index at  2 get converted to 1, the rest 29 indices are 0 \n",
    "    i = i + 1"
   ]
  },
  {
   "cell_type": "markdown",
   "metadata": {
    "id": "iQj92PGftUJw",
    "colab_type": "text"
   },
   "source": [
    "Check that the correct number of data points and labels have been read into the system."
   ]
  },
  {
   "cell_type": "code",
   "execution_count": 8,
   "metadata": {
    "id": "8koK7rwgM_-u",
    "colab_type": "code",
    "colab": {
     "autoexec": {
      "startup": false,
      "wait_interval": 0.0
     },
     "base_uri": "https://localhost:8080/",
     "height": 52.0
    },
    "outputId": "146d2ff5-dde8-4844-8c4f-f7c0f2435180",
    "executionInfo": {
     "status": "ok",
     "timestamp": 1.52562054194E12,
     "user_tz": -600.0,
     "elapsed": 822.0,
     "user": {
      "displayName": "Yue Cao",
      "photoUrl": "https://lh3.googleusercontent.com/a/default-user=s128",
      "userId": "104957148150622008767"
     }
    }
   },
   "outputs": [
    {
     "name": "stdout",
     "output_type": "stream",
     "text": [
      "(20104, 30)\n",
      "(20104, 13626)\n"
     ]
    }
   ],
   "source": [
    "print(onehot.shape)\n",
    "print(S.shape)\n"
   ]
  },
  {
   "cell_type": "markdown",
   "metadata": {
    "id": "fc1801sOdaSt",
    "colab_type": "text"
   },
   "source": [
    "The following lines of code allow checking of memory consumption afer the data loading phase."
   ]
  },
  {
   "cell_type": "code",
   "execution_count": 0,
   "metadata": {
    "id": "maErCTWK82jq",
    "colab_type": "code",
    "colab": {
     "autoexec": {
      "startup": false,
      "wait_interval": 0.0
     }
    }
   },
   "outputs": [],
   "source": [
    "import gc\n",
    "import psutil"
   ]
  },
  {
   "cell_type": "code",
   "execution_count": 11,
   "metadata": {
    "id": "ood-MjGl7QnT",
    "colab_type": "code",
    "colab": {
     "autoexec": {
      "startup": false,
      "wait_interval": 0.0
     },
     "base_uri": "https://localhost:8080/",
     "height": 397.0
    },
    "outputId": "73065c52-6960-436e-afb3-1bdd120cd906",
    "executionInfo": {
     "status": "ok",
     "timestamp": 1.525620637364E12,
     "user_tz": -600.0,
     "elapsed": 4605.0,
     "user": {
      "displayName": "Yue Cao",
      "photoUrl": "https://lh3.googleusercontent.com/a/default-user=s128",
      "userId": "104957148150622008767"
     }
    }
   },
   "outputs": [
    {
     "name": "stdout",
     "output_type": "stream",
     "text": [
      "Active memory 3.3540802001953125\n",
      "free memory 0.16845321655273438\n",
      "Inactive memory 8.545223236083984\n",
      "sswap(total=0, used=0, free=0, percent=0, sin=0, sout=0)\n",
      "              total        used        free      shared  buff/cache   available\n",
      "Mem:          13029        1634         169           0       11224       11146\n",
      "Swap:             0           0           0\n",
      "\u001b[?1h\u001b=\u001b[H\u001b[2J\u001b[mtop - 15:29:37 up 26 min,  0 users,  load average: 0.22, 0.76, 0.95\u001b[m\u001b[m\u001b[m\u001b[m\u001b[K\n",
      "Tasks:\u001b[m\u001b[m\u001b[1m   7 \u001b[m\u001b[mtotal,\u001b[m\u001b[m\u001b[1m   1 \u001b[m\u001b[mrunning,\u001b[m\u001b[m\u001b[1m   6 \u001b[m\u001b[msleeping,\u001b[m\u001b[m\u001b[1m   0 \u001b[m\u001b[mstopped,\u001b[m\u001b[m\u001b[1m   0 \u001b[m\u001b[mzombie\u001b[m\u001b[m\u001b[m\u001b[m\u001b[K\n",
      "%Cpu(s):\u001b[m\u001b[m\u001b[1m 38.7 \u001b[m\u001b[mus,\u001b[m\u001b[m\u001b[1m  2.3 \u001b[m\u001b[msy,\u001b[m\u001b[m\u001b[1m  0.0 \u001b[m\u001b[mni,\u001b[m\u001b[m\u001b[1m 48.4 \u001b[m\u001b[mid,\u001b[m\u001b[m\u001b[1m 10.6 \u001b[m\u001b[mwa,\u001b[m\u001b[m\u001b[1m  0.0 \u001b[m\u001b[mhi,\u001b[m\u001b[m\u001b[1m  0.1 \u001b[m\u001b[msi,\u001b[m\u001b[m\u001b[1m  0.0 \u001b[m\u001b[mst\u001b[m\u001b[m\u001b[m\u001b[m\u001b[K\n",
      "KiB Mem :\u001b[m\u001b[m\u001b[1m 13341832 \u001b[m\u001b[mtotal,\u001b[m\u001b[m\u001b[1m   172860 \u001b[m\u001b[mfree,\u001b[m\u001b[m\u001b[1m  1674716 \u001b[m\u001b[mused,\u001b[m\u001b[m\u001b[1m 11494256 \u001b[m\u001b[mbuff/cache\u001b[m\u001b[m\u001b[m\u001b[m\u001b[K\n",
      "KiB Swap:\u001b[m\u001b[m\u001b[1m        0 \u001b[m\u001b[mtotal,\u001b[m\u001b[m\u001b[1m        0 \u001b[m\u001b[mfree,\u001b[m\u001b[m\u001b[1m        0 \u001b[m\u001b[mused.\u001b[m\u001b[m\u001b[1m 11413044 \u001b[m\u001b[mavail Mem \u001b[m\u001b[m\u001b[m\u001b[m\u001b[K\n",
      "\u001b[K\n",
      "\u001b[7m  PID USER      PR  NI    VIRT    RES    SHR S  %CPU %MEM     TIME+ COMMAND     \u001b[m\u001b[m\u001b[K\n",
      "\u001b[m    1 root      20   0   39136   6568   5192 S   0.0  0.0   0:00.08 run.sh      \u001b[m\u001b[m\u001b[K\n",
      "\u001b[m   65 root      20   0  676252  43376  21632 S   0.0  0.3   0:00.66 node        \u001b[m\u001b[m\u001b[K\n",
      "\u001b[m   75 root      20   0  708620  62040  22668 S   0.0  0.5   0:02.14 node        \u001b[m\u001b[m\u001b[K\n",
      "\u001b[m   85 root      20   0  180860  55780  12372 S   0.0  0.4   0:01.38 jupyter-no+ \u001b[m\u001b[m\u001b[K\n",
      "\u001b[m  106 root      20   0 2018412 1.382g  43120 S   0.0 10.9  17:32.75 python3     \u001b[m\u001b[m\u001b[K\n",
      "\u001b[m  161 root      20   0   33960   5076   3984 S   0.0  0.0   0:01.01 sh          \u001b[m\u001b[m\u001b[K\n",
      "\u001b[m\u001b[1m  162 root      20   0   65356   7032   5280 R   0.0  0.1   0:00.00 top         \u001b[m\u001b[m\u001b[K\n",
      "\u001b[J\u001b[?1l\u001b>\u001b[25;1H\n",
      "\u001b[K"
     ]
    }
   ],
   "source": [
    "\n",
    "gc.collect()\n",
    "\n",
    "gig = 1<<30\n",
    "svmem = psutil.virtual_memory()\n",
    "swap = psutil.swap_memory()\n",
    "\n",
    "print(\"Active memory\" , svmem.active/gig)\n",
    "print(\"free memory\", svmem.free/gig)\n",
    "print(\"Inactive memory\", svmem.inactive/gig)\n",
    "print(swap)\n",
    "\n",
    "!free -m\n",
    "!top"
   ]
  },
  {
   "cell_type": "markdown",
   "metadata": {
    "id": "X_9yMelvf_GK",
    "colab_type": "text"
   },
   "source": [
    "\n",
    "\n",
    "---\n"
   ]
  },
  {
   "cell_type": "markdown",
   "metadata": {
    "id": "O5zfbjqlgSWN",
    "colab_type": "text"
   },
   "source": [
    "## A. Introduction \n"
   ]
  },
  {
   "cell_type": "markdown",
   "metadata": {
    "id": "N6KtBHrPgiCB",
    "colab_type": "text"
   },
   "source": [
    "1- What is the aim of the study?\n"
   ]
  },
  {
   "cell_type": "markdown",
   "metadata": {
    "id": "WP6x1GfHgrX1",
    "colab_type": "text"
   },
   "source": [
    "The aim of this study is to classify a set of applications into its categories based on TF-IDF value of selected words. This task is composed of three components. The first task, pre-processing of dataset, deals with the dimension reduction of the data sample using feature selection technique. The second task implements and examines a range of classification algorithm including multiclass logistic regression, Naïve Bayes and multiclass linear regression. Each of these classifiers is trained on a training set, with performance evaluated and compared based on precision and recall on a validation set.  In the final task, the model with the best precision and recall is used to carry out classification on a test set. \n"
   ]
  },
  {
   "cell_type": "markdown",
   "metadata": {
    "id": "GRYT8q82g1uv",
    "colab_type": "text"
   },
   "source": [
    "2- Why is this study important?"
   ]
  },
  {
   "cell_type": "markdown",
   "metadata": {
    "id": "W03lryJrg-EX",
    "colab_type": "text"
   },
   "source": [
    "Classification is one of the main tasks in machine learning and has wide range of applications both in research and in industry. This study is important in that it explores the stages in a typical classification task and examines aspects of decisions to be made during these stages. \n",
    "\n",
    "In machine learning task, the dimensions of datasets can often be large. This introduces several problems that can affect the later analysis stages. With the number of dimension being greater than the number of data samples, one can encounter what is known as the curse of dimensionality. [1] Machine learning algorithms typically requires more than one sample for each dimension in order to learn the latent patterns within the sample and to reach a model that can generalise well to unseen data. If, on the other hand, the number of dimension is greater than the number of samples, the machine learning algorithms may fail to distinguish patterns in each dimension, leading to poor performance on testing data. Reducing the number of dimensions, on the other hand, may also lead to poor performance if performed carelessly. It is important that decisions are made thoughtfully. This study thus examines such decision making process in the pre-processing stage.\n",
    "\n",
    "Apart from pre-processing, the choice of classifier can also impact on classification accuracy. The number of machine learning algorithms, which fall into the two broad category of generative and discriminative, are numerous. Each algorithm is suited to different tasks, depending on the characteristics of the algorithms and characteristic of the dataset. [2] This study, through implementation of different classifiers, compares and contrasts the performance of classifiers and their advantages and disadvantages on this specific dataset of TF-IDF values.\n",
    "\n",
    "\n"
   ]
  },
  {
   "cell_type": "markdown",
   "metadata": {
    "id": "vXjExeGHhfdL",
    "colab_type": "text"
   },
   "source": [
    "## B. Methods "
   ]
  },
  {
   "cell_type": "markdown",
   "metadata": {
    "id": "l78VSnashn5y",
    "colab_type": "text"
   },
   "source": [
    "### Pre-processing\n",
    "\n",
    "\n"
   ]
  },
  {
   "cell_type": "markdown",
   "metadata": {
    "id": "UdWHc8SLh3m7",
    "colab_type": "text"
   },
   "source": [
    "\n",
    " \n",
    "The pre-processing technique used in this study involved counting the number of frequencies associated with each word. This specific pre-processing technique was chosen because the data is sparse, with each word only appearing in only a small proportion of apps. \n",
    "\n",
    "First, a histogram was drawn to visualization the distribution of words. The histogram is clearly skewed with almost 12000 out of the 13626 words in the range of 0 to 100. A cumulative density function plot was then plotted to better visualize the probability distribution of the words frequency. The cumulative density plot, narrowed to the range of 0 to 200, clearly shows that 80% of the words appear less than 50 times out of 13627. After performing data splitting such as 10 folds, these words would on average appear less than 5 times across the training data. Words such low frequency would not carry as much information to the models and could be discarded. In this study, we chose to exclude words with frequency less than 40. \n",
    "\n",
    "Normalisation was not performed due to the following reasons. All features are presented using TF-IDF,a form of normalisation itself. In addition, the use of TF-IDF implies all features are in the same measurement scale. \n",
    "\n",
    "The code below demonstrates this pre-processing stage. \n"
   ]
  },
  {
   "cell_type": "markdown",
   "metadata": {
    "id": "703sf4330gZd",
    "colab_type": "text"
   },
   "source": [
    "The following code calculate the frequency of each word"
   ]
  },
  {
   "cell_type": "code",
   "execution_count": 0,
   "metadata": {
    "id": "AKmdl54LuK1J",
    "colab_type": "code",
    "colab": {
     "autoexec": {
      "startup": false,
      "wait_interval": 0.0
     }
    }
   },
   "outputs": [],
   "source": [
    "import matplotlib.pyplot as plt\n",
    "nonzero=[]\n",
    "for i in range(0,S.shape[1]):\n",
    "    temp = S[:,i].count_nonzero() #for each feature (word), calculate the number of non zero elements \n",
    "    nonzero.append(temp)"
   ]
  },
  {
   "cell_type": "code",
   "execution_count": 24,
   "metadata": {
    "id": "tKyd8vBrz9Ea",
    "colab_type": "code",
    "colab": {
     "autoexec": {
      "startup": false,
      "wait_interval": 0.0
     },
     "base_uri": "https://localhost:8080/",
     "height": 347.0
    },
    "outputId": "b5e21807-8c0f-4cd1-f0a9-b01b927e6bb4",
    "executionInfo": {
     "status": "ok",
     "timestamp": 1.525432735591E12,
     "user_tz": -600.0,
     "elapsed": 969.0,
     "user": {
      "displayName": "Yue Cao",
      "photoUrl": "https://lh3.googleusercontent.com/a/default-user=s128",
      "userId": "104957148150622008767"
     }
    }
   },
   "outputs": [
    {
     "data": {
      "image/png": "[encoded data removed]",
      "text/plain": [
       "<matplotlib.figure.Figure at 0x7fe6ee793908>"
      ]
     },
     "metadata": {
      "tags": []
     },
     "output_type": "display_data"
    }
   ],
   "source": [
    "####Do NOT RUN####\n",
    "\n",
    "plt.hist(nonzero,  bins=100)\n",
    "plt.show()"
   ]
  },
  {
   "cell_type": "markdown",
   "metadata": {
    "id": "m3OFXGaUV5SZ",
    "colab_type": "text"
   },
   "source": [
    "**Figure 1.** Histogram of the overall distribution of word frequency. "
   ]
  },
  {
   "cell_type": "code",
   "execution_count": 25,
   "metadata": {
    "id": "433fDPqV0Kb_",
    "colab_type": "code",
    "colab": {
     "autoexec": {
      "startup": false,
      "wait_interval": 0.0
     },
     "base_uri": "https://localhost:8080/",
     "height": 347.0
    },
    "outputId": "e3f75b99-6221-44a5-92f8-2066c2a98890",
    "executionInfo": {
     "status": "ok",
     "timestamp": 1.525432744923E12,
     "user_tz": -600.0,
     "elapsed": 1077.0,
     "user": {
      "displayName": "Yue Cao",
      "photoUrl": "https://lh3.googleusercontent.com/a/default-user=s128",
      "userId": "104957148150622008767"
     }
    }
   },
   "outputs": [
    {
     "data": {
      "image/png": "[encoded data removed]",
      "text/plain": [
       "<matplotlib.figure.Figure at 0x7fe71101ea90>"
      ]
     },
     "metadata": {
      "tags": []
     },
     "output_type": "display_data"
    }
   ],
   "source": [
    "####Do NOT RUN####\n",
    "\n",
    "base,value = np.histogram(nonzero, bins = 2000, normed = True )\n",
    "dx = value[1] - value[0]         #calculate the cumulative frequency \n",
    "function = np.cumsum(base)*dx\n",
    "\n",
    "plt.plot(value[1:], function)\n",
    "plt.ylim([0, 1.1])\n",
    "plt.xlim([0, 200])  #narrowing the range for clearer result \n",
    "\n",
    "plt.show()\n"
   ]
  },
  {
   "cell_type": "markdown",
   "metadata": {
    "id": "n5-zIdjbWAsm",
    "colab_type": "text"
   },
   "source": [
    "**Figure 2. ** Cumulative density function plot, narrowed into the frequency range of 0 to 200"
   ]
  },
  {
   "cell_type": "markdown",
   "metadata": {
    "id": "8LoJt4_H2XMc",
    "colab_type": "text"
   },
   "source": [
    "The code below identifies the features to keep by identifying those with frequency >40"
   ]
  },
  {
   "cell_type": "code",
   "execution_count": 0,
   "metadata": {
    "id": "h3DXLZY22XjL",
    "colab_type": "code",
    "colab": {
     "autoexec": {
      "startup": false,
      "wait_interval": 0.0
     }
    }
   },
   "outputs": [],
   "source": [
    "nrow = 13627\n",
    "index=[]\n",
    "for i in range(1,nrow-1):\n",
    "    if (S[:,i].count_nonzero() >40): # keep the feature if frequency >40\n",
    "        index.append(i) #keep track of the index in a list"
   ]
  },
  {
   "cell_type": "markdown",
   "metadata": {
    "id": "se3bNvx82mWP",
    "colab_type": "text"
   },
   "source": [
    "The code below processes the training data, keeping only the selected features."
   ]
  },
  {
   "cell_type": "code",
   "execution_count": 9,
   "metadata": {
    "id": "Y0hX4kbv2mdb",
    "colab_type": "code",
    "colab": {
     "autoexec": {
      "startup": false,
      "wait_interval": 0.0
     },
     "base_uri": "https://localhost:8080/",
     "height": 34.0
    },
    "outputId": "9637f4ed-32dd-48c7-e8ee-3083b0a70cd7",
    "executionInfo": {
     "status": "ok",
     "timestamp": 1.52562869578E12,
     "user_tz": -600.0,
     "elapsed": 180833.0,
     "user": {
      "displayName": "Yue Cao",
      "photoUrl": "https://lh3.googleusercontent.com/a/default-user=s128",
      "userId": "104957148150622008767"
     }
    }
   },
   "outputs": [
    {
     "name": "stdout",
     "output_type": "stream",
     "text": [
      "(20104, 3371)\n"
     ]
    }
   ],
   "source": [
    "Scopy=S\n",
    "S = S[:,index]\n",
    "print(S.shape) #check the size of processed data"
   ]
  },
  {
   "cell_type": "markdown",
   "metadata": {
    "id": "P1_hsOaLhfTf",
    "colab_type": "text"
   },
   "source": [
    "### Classifier"
   ]
  },
  {
   "cell_type": "markdown",
   "metadata": {
    "id": "0RxwCx6665CE",
    "colab_type": "text"
   },
   "source": [
    "**Helper** **function**\n",
    "\n",
    "Please run the following helper function in sequence before running the classifiers."
   ]
  },
  {
   "cell_type": "markdown",
   "metadata": {
    "id": "bWzqIWlr6sEo",
    "colab_type": "text"
   },
   "source": [
    "Helper function for shuffing the dataset. \n",
    "\n",
    "Shuffling prevents the data from being ordered in a particular way. This is important for subsequent modelling, especially when the data is to be splitted in folds. An ordered subset of data will serverely affect the pattern in which an algorithm can learn from the data."
   ]
  },
  {
   "cell_type": "code",
   "execution_count": 0,
   "metadata": {
    "id": "RvUgT-7O63Qc",
    "colab_type": "code",
    "colab": {
     "autoexec": {
      "startup": false,
      "wait_interval": 0.0
     }
    }
   },
   "outputs": [],
   "source": [
    "\n",
    "def shuffle():\n",
    "  length = list(range(S.shape[0])) #\n",
    "  np.random.shuffle(length)\n",
    "  S[length]  #shuffle the data points using the shuffled index\n",
    "  \n",
    "  onehot[length] #shuffle the label according to the shuffled index\n",
    "  "
   ]
  },
  {
   "cell_type": "markdown",
   "metadata": {
    "id": "kMvni71Bx2ac",
    "colab_type": "text"
   },
   "source": [
    "Shuffle the data once is sufficent "
   ]
  },
  {
   "cell_type": "code",
   "execution_count": 0,
   "metadata": {
    "id": "gVwSwFuNx0gq",
    "colab_type": "code",
    "colab": {
     "autoexec": {
      "startup": false,
      "wait_interval": 0.0
     }
    }
   },
   "outputs": [],
   "source": [
    "shuffle()"
   ]
  },
  {
   "cell_type": "markdown",
   "metadata": {
    "id": "KXd-uXUBx6OH",
    "colab_type": "text"
   },
   "source": [
    "Helper function for splitting the data into 10 folds, and retrieving one fold each time\n",
    "\n"
   ]
  },
  {
   "cell_type": "code",
   "execution_count": 0,
   "metadata": {
    "id": "INryZgGuuBtD",
    "colab_type": "code",
    "colab": {
     "autoexec": {
      "startup": false,
      "wait_interval": 0.0
     }
    }
   },
   "outputs": [],
   "source": [
    "def Kcrossvalidation(fold):\n",
    "  test_length = int(S.shape[0]*0.1)\n",
    "  \n",
    "  testindex = list(range(fold*test_length,(fold+1)*test_length))\n",
    "  totalindex = list(range(0,S.shape[0]))\n",
    "  trainindex =list(set(totalindex) - set(testindex))\n",
    "\n",
    "\n",
    "  onehot_train = onehot[trainindex] #split the label into training label with the given index \n",
    "  onehot_test = onehot[testindex]   #split the label into testing label\n",
    "\n",
    "  X_train = S[trainindex]    #split the data into training data      \n",
    "  X_test =  S[testindex] #split the data into testing data\n",
    "\n",
    "  X_train = X_train.toarray() #convert the sparse matrix into array, as this actually increase performance in matrix multiplication operation\n",
    "  X_test = X_test.toarray()\n",
    "  \n",
    "  Y_train = onehot_train.toarray() \n",
    "  Y_test = onehot_test.toarray()\n",
    "  \n",
    "  return (X_train,X_test,Y_train, Y_test) #return one fold of training and validating set \n",
    "  "
   ]
  },
  {
   "cell_type": "markdown",
   "metadata": {
    "id": "HBOZ0YUKotNQ",
    "colab_type": "text"
   },
   "source": [
    "Helper function to convert one hot encoding back to label "
   ]
  },
  {
   "cell_type": "code",
   "execution_count": 0,
   "metadata": {
    "id": "R0-zAJ6gotY-",
    "colab_type": "code",
    "colab": {
     "autoexec": {
      "startup": false,
      "wait_interval": 0.0
     }
    }
   },
   "outputs": [],
   "source": [
    "def onehotback(y):\n",
    "  back = []\n",
    "  for i in range(0,len(y)):\n",
    "    #print(i)\n",
    "    temp = np.argmax(y[i])\n",
    "    back.append(temp)\n",
    "  return(back)\n"
   ]
  },
  {
   "cell_type": "markdown",
   "metadata": {
    "id": "seCH67vJj9C-",
    "colab_type": "text"
   },
   "source": [
    "Helper function to calculate precision and recall"
   ]
  },
  {
   "cell_type": "code",
   "execution_count": 0,
   "metadata": {
    "id": "G6s2VarNj8aN",
    "colab_type": "code",
    "colab": {
     "autoexec": {
      "startup": false,
      "wait_interval": 0.0
     }
    }
   },
   "outputs": [],
   "source": [
    "def precision_recall(prediction,traget):\n",
    "    \"\"\"\n",
    "\n",
    "    :param prediction:\n",
    "    :param traget:\n",
    "    :return : precision_list\n",
    "    :return : recall_list\n",
    "    :return : Accuracy_list\n",
    "    \"\"\"\n",
    "    recall_list = []  # tp/tp+fn\n",
    "    precision_list = []  # tp/tp+fp\n",
    "    Accuracy_list = []  # tp+tn/tp+tn+fp+fn\n",
    "\n",
    "    for i in range(30):\n",
    "        tp = 0\n",
    "        tn = 0\n",
    "        fp = 0\n",
    "        fn = 0\n",
    "\n",
    "        for j in range(len(prediction)):\n",
    "            if prediction[j] == i:\n",
    "                if traget[j] == i:\n",
    "                    tp = tp + 1\n",
    "                else:\n",
    "                    fp = fp + 1\n",
    "            else:\n",
    "                if traget[j] == i:\n",
    "                    fn = fn + 1\n",
    "                else:\n",
    "                    tn = tn + 1\n",
    "\n",
    "        precision = tp / (tp + fp)\n",
    "        recall = tp / (tp + fn)\n",
    "        Accuracy = (tp + tn) / (tp + tn + fp + fn)\n",
    "        precision_list.append(precision)\n",
    "        recall_list.append(recall)\n",
    "        Accuracy_list.append(Accuracy)\n",
    "    return precision_list,recall_list,Accuracy_list"
   ]
  },
  {
   "cell_type": "markdown",
   "metadata": {
    "id": "Os1-qbDXeH61",
    "colab_type": "text"
   },
   "source": [
    " **Multiclass Logistic Regression **"
   ]
  },
  {
   "cell_type": "markdown",
   "metadata": {
    "id": "w6NkljEt_3hD",
    "colab_type": "text"
   },
   "source": [
    "Multiclass logistic regression is a type of classifier that extends on the concepts of binary logistic regression to multiclass classification. It takes in a feature matrix X of dimension (N, D), a label Y and a weight matrix W of dimension (N,K)  and outputs the probability of a sample belonging to a particular class. (N = number of sample, D = number of features, K = number of classes). \n",
    "\n",
    "Multiclass logistic regression is optimised through an iterative process. In each step of the process, the gradient is calculated with respect to the weight of previous iteration. This gradient is then used to update the weight for next iteration. A loss function is calculated based on the weight in each iteration. Iteration continues until the loss function converges. [3,4]\n",
    "The optimisation algorithm is described with the following formulas. \n",
    "\n",
    "The weight matrix W is initiated with randomly generated numbers. The following formulas is used to update this weight matrix in each itereation. \n",
    "\n",
    "The formula below shows the calculation of gradient with respect to the Wj, with j being a class in the classification task.  \n",
    "$$\\nabla_{w_{j}}=\\frac{e^{w_{j}^{T}x^{(i)}}}{\\Sigma_{j=1}^{k} e^{w_{j}^{T}x^{(i)}}}x^{(i)}$$\n",
    "\n",
    "This formula below shows the calculation of gradient with respect to the correct class yj.\n",
    "$$\\nabla_{w_{y_{j}}}=-x^{(i)}+\\frac{e^{w_{j}^{T}x^{(i)}}}{\\Sigma_{j=1}^{k} e^{w_{j}^{T}x^{(i)}}}x^{(i)}$$\n",
    "\n",
    "Once the gradient is obtained, the weight matrix is updated in the opposite direction of the gradient. This can be represented by: W = W - learning rate * gradient.\n",
    "\n",
    "Finally, the loss, which is used to monitor the convergence of function, is calculated with the following formula.\n",
    "\n",
    "$$-\\frac{1}{m}\\sum_{i = 1}^{m}log( \\frac{e^{w_{y_{j}}^{T}x^{(i)}}}{\\Sigma_{j=1}^{k} e^{w_{j}^{T}x^{(i)}} }  )$$\n",
    "\n",
    "\n",
    "\n",
    "\n",
    "\n",
    "\n",
    "Multiclass logistic regression in this study is implemented with mini – batch gradient descent. In mini – batch gradient descent, instead of computing the gradient and the loss function based the entire training dataset, n samples are taken as input as one time and the gradient and loss function are computed based on these n samples.   This technique helps to address issues with large dataset, where multiplying between large matrixes can be slow and even incur memory issue.  Multiclass logistic regression is solved using iterative algorithm, therefore it is nature in this study to implement this technique of mini-batch. \n",
    "\n",
    "In addition, rigde regularization is implemented. \n",
    "\n",
    "\n"
   ]
  },
  {
   "cell_type": "code",
   "execution_count": 0,
   "metadata": {
    "id": "VvkVJFcfj6mI",
    "colab_type": "code",
    "colab": {
     "autoexec": {
      "startup": false,
      "wait_interval": 0.0
     }
    }
   },
   "outputs": [],
   "source": [
    "\n",
    "def BatchGD(W, X, Y, lamb):\n",
    "    \n",
    "    predicted = np.dot(X,W)\n",
    "    predicted.shape\n",
    "    #row = each data instance \n",
    "    #column = K classes, one column represent one class \n",
    "    #eg, (50,30) \n",
    "    loss = 0\n",
    "    gradient = np.zeros(W.shape)\n",
    "  \n",
    "    totaltrain =  X.shape[0]\n",
    "    classes = W.shape[1]\n",
    "    #eg, 50,   30 \n",
    "\n",
    "    Y = np.argmax(Y,axis=1)\n",
    "    #eg, 50, \n",
    "     \n",
    "    #for each sample compute and loss and gradient\n",
    "    #then average over all sample \n",
    "    for i in range(0,totaltrain):\n",
    "        thisX = X[i] #get the X sample\n",
    "        truth = Y[i] #get the Y sample\n",
    "        \n",
    "        thisrow = predicted[i] #retrieve the correct predicted value with this sample\n",
    "        #return array of dim 30, 1\n",
    "        \n",
    "        softmax_denom = np.sum(np.exp(thisrow)) #compute the exponential of weight times x, then sum the weight up for each class\n",
    "        \n",
    "        numerator = np.exp(thisrow[truth]) #the numerator is the exponential of the weight of the correct class times x \n",
    "        oneloss = -np.log(numerator / softmax_denom) #loss of one sample \n",
    "       \n",
    "        # compute the gradient\n",
    "        tempgradient = np.exp(thisrow) / softmax_denom\n",
    "                             \n",
    "        #update the gradient for each class \n",
    "        for j in range(0, classes):\n",
    "            gradient[:, j] = gradient[:, j] + (tempgradient[j] * thisX)\n",
    "        \n",
    "        loss =  loss + oneloss #sum up each loss \n",
    "        gradient[ :, truth] = gradient[:, truth] -  thisX  #update the gradient of the correct class\n",
    "\n",
    "    loss = loss /totaltrain #average the loss\n",
    "    loss = loss +  lamb/2 * np.sum(W*W) # use ridge regression \n",
    "    gradient = gradient /totaltrain\n",
    "    gradient = gradient + lamb * W \n",
    "    return loss, gradient\n"
   ]
  },
  {
   "cell_type": "code",
   "execution_count": 0,
   "metadata": {
    "id": "0Tu5IMiTiEDw",
    "colab_type": "code",
    "colab": {
     "autoexec": {
      "startup": false,
      "wait_interval": 0.0
     }
    }
   },
   "outputs": [],
   "source": [
    "def getbatch(i,size):\n",
    "    X = X_train[i*size:(i+1)*size]\n",
    "    returny = Y_train[i*size:(i+1)*size]   \n",
    "    return X,returny\n",
    "\n",
    "def getlastbatch(i,size):\n",
    "    X = X_train[(i*size):]\n",
    "    returny = Y_train[i*size:] #if this is the last batch, then get the number of remaining samples \n",
    "    return X, returny\n",
    "  "
   ]
  },
  {
   "cell_type": "code",
   "execution_count": 0,
   "metadata": {
    "id": "s0B5BLujiaeA",
    "colab_type": "code",
    "colab": {
     "autoexec": {
      "startup": false,
      "wait_interval": 0.0
     }
    }
   },
   "outputs": [],
   "source": [
    "def logistic(X_train,Y_train,X_test,lamb):\n",
    "  total_epochs = 4      #define hyperparameters\n",
    "  learning_rate = 0.1\n",
    "  size = 50             #size of mini-batch\n",
    "  \n",
    "  W = np.random.random((3371,30)) #initiate the weight matrix \n",
    "  total_batch=int(X_train.shape[0]/size)+1  #find the total number of batches in one epoch \n",
    "  for epoch in range(0,total_epochs):\n",
    "      for i in range(0,total_batch):\n",
    "          if ((i+1) == total_batch):  #if this is the last batch, get n samples, where n<= size of mini-batch \n",
    "              batch_x,batch_y = getlastbatch(i,size)\n",
    "          else:                        #else, get n samples, where n = size of mini-batch \n",
    "              batch_x,batch_y = getbatch(i,size)\n",
    "         \n",
    "          loss,grad = BatchGD(W,batch_x,batch_y,lamb)  #compute loss and gradient \n",
    "          W = W - learning_rate*grad     #update the weight \n",
    "          #print(loss)\n",
    "        \n",
    "  scores = np.dot(X_test,W)             #after training complete, test the model using validation set \n",
    "  y_predicted = np.argmax(scores, axis=1)\n",
    "  \n",
    "  return (y_predicted)\n",
    "  "
   ]
  },
  {
   "cell_type": "markdown",
   "metadata": {
    "id": "fJoXbB8Z4zMB",
    "colab_type": "text"
   },
   "source": [
    "This is the main function that perform 10 folds cross validation using logistic regression. \n",
    "\n",
    "Please run the above helper functions first before running this main function."
   ]
  },
  {
   "cell_type": "code",
   "execution_count": 0,
   "metadata": {
    "id": "KM1ehmlzjfL2",
    "colab_type": "code",
    "colab": {
     "autoexec": {
      "startup": false,
      "wait_interval": 0.0
     }
    }
   },
   "outputs": [],
   "source": [
    "precision = []\n",
    "recall = [] \n",
    "for fold in range(0,10):\n",
    "  X_train,X_test,Y_train,Y_test = Kcrossvalidation(fold)  #get one fold of training and testing data \n",
    "  predicted = logistic(X_train,Y_train,X_test,0.06) #train the model, default lambda is set to 0.06\n",
    "  y_test = onehotback(Y_test)              \n",
    "  score = precision_recall(predicted,y_test) #calculate the precision and recall\n",
    "  precision.append(np.mean(score[0]))\n",
    "  recall.append(np.mean(score[1]))\n"
   ]
  },
  {
   "cell_type": "code",
   "execution_count": 54,
   "metadata": {
    "id": "c2o4_a_LkzYy",
    "colab_type": "code",
    "colab": {
     "autoexec": {
      "startup": false,
      "wait_interval": 0.0
     },
     "base_uri": "https://localhost:8080/",
     "height": 72.0
    },
    "outputId": "663ad90c-279d-4bbb-ddf9-8fc5b4dafcb0",
    "executionInfo": {
     "status": "ok",
     "timestamp": 1.525595461953E12,
     "user_tz": -600.0,
     "elapsed": 1278.0,
     "user": {
      "displayName": "Yue Cao",
      "photoUrl": "https://lh3.googleusercontent.com/a/default-user=s128",
      "userId": "104957148150622008767"
     }
    }
   },
   "outputs": [
    {
     "name": "stdout",
     "output_type": "stream",
     "text": [
      "[0.5942050747717862, 0.598741146048019, 0.5928592386666992, 0.5988774586029677, 0.5991373220702197, 0.5941601668894116, 0.5940840309200506, 0.5945640020604213, 0.5947474468984303, 0.5996239809878612]\n",
      "[0.5547833827129037, 0.5559991699927179, 0.5542941401546957, 0.5550806699667128, 0.5565110369853151, 0.5547571031176587, 0.5549243820900752, 0.5548199487687396, 0.5551719410324966, 0.5574398295549745]\n"
     ]
    }
   ],
   "source": [
    "print(precision)\n",
    "print(recall)"
   ]
  },
  {
   "cell_type": "markdown",
   "metadata": {
    "id": "XNTe-inZO4qm",
    "colab_type": "text"
   },
   "source": [
    "**Naive Bayes**\n",
    "\n",
    "Apart from multiclass logistic regression, Naïve Bayes is also one of the common techniques for text classification using word counts. \n",
    "In contrast to the discriminative logistic regression that builds a single model for all categories, the generative Naïve Bayes builds a model for each category and choose the one with highest score as the predicted category. The model be summarised with the following formula, where classifier finds the category c that maximise the product of the prior probability of category c and the likelihood of the sample belonging to category c. [5,6]\n",
    "\n",
    "$$c_{NB} =  \\mathop{\\arg\\max}\\limits_{c \\in C}P(c)\\prod_{f \\in F}P(f|c)$$\n",
    "\n",
    "\n",
    "In this study, Naïve Bayes is implemented using the following formulas. \n",
    "\n",
    "The prior, probability of category c, is determined by finding the number of samples in the training data that belongs to category c and dividing by the total number of samples in the training data. \n",
    "\n",
    "$$\\hat{P}(c) =\\frac{Nc}{Ndoc}$$\n",
    "\n",
    "The likelihood of the sample belonging to category c is calculated in two stages. The first stage requires finding the probability of a word in category c. This is computed by counting the number of times a word appear in category c and dividing by number of times this particular word appear in all categories.  This is represented by the following formula.\n",
    "\n",
    "$$\\hat{P}(w_{i}|c) =\\frac{count(w_{i},c)}{\\Sigma_{w\\in V}count(w,c)}$$\n",
    "\n",
    "A common issue that can arise from this formula is that words not appearing in training set would be assigned probability 0. This would then bring the likelihood function to 0 in later computation. This study thus implemented a modification of this formula, known as Laplace smoothing. It adds 1 to the numerator and denominator, as shown by the below formula, and prevent word from having probability 0. \n",
    "\n",
    "$$\\hat{P}(w_{i}|c) =\\frac{count(w_{i},c)+1}{\\Sigma_{w\\in V}(count(w,c)+1)}$$\n",
    "\n",
    "Once the probability of each word has been found, stage two can be preceded as follows. For each sample, the probability of it belong to category c is calculated by multiplying all the individual probability of each of its word belonging to category c. \n",
    "\n",
    "In this implementation, the log of prior and the log likelihood is computed instead of using the original formula. This would avoid issues such as number underflow from multiplying many small probabilities together. \n",
    "\n",
    "In addition, this implementation is consisted of two sub-implementations. The default implementation, as shown by the code below, converts the TD-IDF value to a binary form. All TD-IDF value greater than 0 are converted to 1. To use the raw TD-IDF value instead, simply comment out the two lines of code that perform the binary conversion. The default implementation uses the binary form becuase this has been found to give 2% higher precision than using the raw TD-IDF value.\n",
    "\n"
   ]
  },
  {
   "cell_type": "code",
   "execution_count": 0,
   "metadata": {
    "id": "zqqmLYL1OudR",
    "colab_type": "code",
    "colab": {
     "autoexec": {
      "startup": false,
      "wait_interval": 0.0
     }
    }
   },
   "outputs": [],
   "source": [
    "def naivebayes(X_value,y,X_test_value):\n",
    "    \n",
    "    prior = defaultdict(int)\n",
    "\n",
    "    \n",
    "    ##get the number of instances associated with each label \n",
    "    for i in range(0,len(y)):\n",
    "        label = np.argmax(y[i])\n",
    "        prior[label] += 1\n",
    "        \n",
    "    words = list(range(3371))     \n",
    "\n",
    "    #create feature dictionary that count the co-occurence of each feature with a topic\n",
    "    #eg, (photopgrahy, 1823) = 2 \n",
    "    feature_counts = defaultdict(float)\n",
    "  \n",
    "    #pad the dictionary with 0's\n",
    "    for label in prior.keys():\n",
    "        for word in words:\n",
    "            feature_counts[word,label] = 0\n",
    "       \n",
    "\n",
    "    \n",
    "    #get the co-occurence of feature with topic    \n",
    "    for i in range(0,len(X_value)):\n",
    "        thisrow = X_value[i] #get a sample \n",
    "        thisrow = thisrow.astype(bool).astype(int)\n",
    "        wordthisrow = np.nonzero(thisrow)[0]\n",
    "        label = np.argmax(y[i]) #get the topic associated with this sample\n",
    "\n",
    "        for word in wordthisrow: \n",
    "            feature_counts[word,label] += thisrow[word] #update the count, where there is co-occurence of feature with a topic \n",
    "       \n",
    "\n",
    "    #for each topic, count the total number of features that occur with that topic \n",
    "    denominator = defaultdict(float)\n",
    "    for i in range(0, len(X_value)):\n",
    "        thisrow = X_value[i]\n",
    "        thisrow = thisrow.astype(bool).astype(int)\n",
    "         \n",
    "        label = np.argmax(y[i]) #get the label \n",
    "     \n",
    "        temp = sum(thisrow) #get the total number of words that appear in one sample \n",
    "        denominator[label] += temp #update the count \n",
    "        \n",
    "    #apply laplace smoothing                \n",
    "    lamb = 1\n",
    "    feature_counts_1 = defaultdict(float)\n",
    "    for label in prior.keys():\n",
    "        for word in words:\n",
    "            feature_counts_1[word,label] = math.log((feature_counts[word,label]+lamb)/(denominator[label]+lamb*3371))\n",
    "       \n",
    " \n",
    "    \n",
    "    predicted = []\n",
    "    \n",
    "    for i in range(0,len(X_test_value)):\n",
    "        thisrow = X_test_value[i]\n",
    "        wordthisrow = np.nonzero(thisrow)[0]\n",
    "        log_prob = defaultdict(float) \n",
    "        for label in prior.keys():\n",
    "            log_prob[label] = math.log(prior[label]/X_train.shape[0]) #calculate the prior \n",
    "            for word in wordthisrow:\n",
    "                log_prob[label] += (feature_counts_1[word,label])  #calculate the log probability of each word \n",
    "       \n",
    "        log_prob = [(v, k) for k, v in log_prob.items()]\n",
    "        log_prob.sort(reverse=True)\n",
    "        predicted.append(log_prob[0][1]) #output the class with highest log probability \n",
    "       \n",
    "    return (predicted)"
   ]
  },
  {
   "cell_type": "code",
   "execution_count": 0,
   "metadata": {
    "id": "ptV2Uy1_mpZ6",
    "colab_type": "code",
    "colab": {
     "autoexec": {
      "startup": false,
      "wait_interval": 0.0
     }
    }
   },
   "outputs": [],
   "source": [
    "precision = []\n",
    "recall = [] \n",
    "for fold in range(0,10):\n",
    "  print(fold)\n",
    "  X_train,X_test,Y_train,Y_test = Kcrossvalidation(fold)\n",
    "  predicted = naivebayes(X_train,Y_train,X_test)\n",
    "  y_test = onehotback(Y_test)\n",
    "  score = precision_recall(predicted,y_test)\n",
    "  precision.append(np.mean(score[0]))\n",
    "  recall.append(np.mean(score[1]))\n"
   ]
  },
  {
   "cell_type": "code",
   "execution_count": 51,
   "metadata": {
    "id": "3k6SIU56XDzg",
    "colab_type": "code",
    "colab": {
     "autoexec": {
      "startup": false,
      "wait_interval": 0.0
     },
     "base_uri": "https://localhost:8080/",
     "height": 72.0
    },
    "outputId": "fd36c052-daf5-4970-bca5-479d6086b734",
    "executionInfo": {
     "status": "ok",
     "timestamp": 1.525595408316E12,
     "user_tz": -600.0,
     "elapsed": 892.0,
     "user": {
      "displayName": "Yue Cao",
      "photoUrl": "https://lh3.googleusercontent.com/a/default-user=s128",
      "userId": "104957148150622008767"
     }
    }
   },
   "outputs": [
    {
     "name": "stdout",
     "output_type": "stream",
     "text": [
      "[0.6022763973010166, 0.5858074934178792, 0.6049837599478268, 0.5976624821388508, 0.5865620930226301, 0.6093887397049033, 0.6009624992800454, 0.6102051437154316, 0.5999173908944321, 0.5916472123827616]\n",
      "[0.5861261175601736, 0.5737526509146019, 0.5961637878196684, 0.5783151510668747, 0.5743586354907559, 0.599107283584408, 0.5881200526221639, 0.5896647812260086, 0.5980030817710482, 0.5860035847141783]\n"
     ]
    }
   ],
   "source": [
    "print(precision)\n",
    "print(recall)"
   ]
  },
  {
   "cell_type": "markdown",
   "metadata": {
    "id": "Qesljk14O8HD",
    "colab_type": "text"
   },
   "source": [
    "**Linear Regression**\n",
    "\n",
    "Linear regression is typically used as a binary classifier, with activation function that constraint the numerical output into probability of class 0 and 1. This binary classification, in theory, can be extended to the multiclass. This study implements such extension using the following closed form solution with ridge regularization.[7,8]\n",
    "\n",
    "$$(X^TX  + \\lambda I)^{-1}X^Ty $$\n",
    "\n",
    "\n",
    "\n",
    "The input is feature matrix X with dimension (N,D) , one hot encoded label matrix Y with dimension (N, K) and a real value regularization coefficient (N = number of sample, D = number of features, K = number of classes) . The final predicted output has dimension (N,K), which can be argmaxed to give the most probable class for each sample. \n",
    "\n",
    "It has been pointed out in literature that linear regression for multi class classification suffers from masking effect, where the decision boundary assigned for some classes is too small and in some cases even non - existence. [9] Nevertheless, it is worth exploring the performance of linear regression for this study. \n"
   ]
  },
  {
   "cell_type": "code",
   "execution_count": 0,
   "metadata": {
    "id": "vdm4-B7DO7dQ",
    "colab_type": "code",
    "colab": {
     "autoexec": {
      "startup": false,
      "wait_interval": 0.0
     }
    }
   },
   "outputs": [],
   "source": [
    "\n",
    "def linear(X_train,Y_train,X_test):\n",
    "  lamb = 2.3\n",
    "  bracket = lamb*np.eye(X_train.shape[1]) + np.dot(X_train.T, X_train) #calculate what's inside the bracket \n",
    "  W = np.dot(np.linalg.inv(bracket), (X_train.T.dot(Y_train))) #finish the calculation \n",
    "  y_predicted = np.dot(X_test,W) #prediction \n",
    "  \n",
    "  return (y_predicted)\n"
   ]
  },
  {
   "cell_type": "code",
   "execution_count": 0,
   "metadata": {
    "id": "SGQiMs99-OSl",
    "colab_type": "code",
    "colab": {
     "autoexec": {
      "startup": false,
      "wait_interval": 0.0
     }
    }
   },
   "outputs": [],
   "source": [
    "precision = []\n",
    "recall = [] \n",
    "for fold in range(0,10):\n",
    "  print(fold)\n",
    "  X_train,X_test,Y_train,Y_test = Kcrossvalidation(fold)\n",
    "  predicted = linear(X_train,Y_train,X_test)\n",
    "  y_test = onehotback(Y_test)\n",
    "  y_predicted = onehotback(predicted)\n",
    "  score = precision_recall(y_test,y_predicted)\n",
    "  precision.append(np.mean(score[0]))\n",
    "  recall.append(np.mean(score[1]))\n",
    " \n",
    "\n"
   ]
  },
  {
   "cell_type": "code",
   "execution_count": 99,
   "metadata": {
    "id": "NNosJFpUXvw3",
    "colab_type": "code",
    "colab": {
     "autoexec": {
      "startup": false,
      "wait_interval": 0.0
     },
     "base_uri": "https://localhost:8080/",
     "height": 72.0
    },
    "outputId": "e1cb9e8f-1c9c-4e04-925d-ff8a2d18e546",
    "executionInfo": {
     "status": "ok",
     "timestamp": 1.52552516785E12,
     "user_tz": -600.0,
     "elapsed": 799.0,
     "user": {
      "displayName": "Yue Cao",
      "photoUrl": "https://lh3.googleusercontent.com/a/default-user=s128",
      "userId": "104957148150622008767"
     }
    }
   },
   "outputs": [
    {
     "name": "stdout",
     "output_type": "stream",
     "text": [
      "[0.6429515520168786, 0.6311655353439943, 0.6194951422172766, 0.6430504639549984, 0.6291052677890215, 0.6360818885711249, 0.6316073617915631, 0.6554664890499605, 0.6400025710553793, 0.6397143193168396]\n",
      "[0.6395533257320285, 0.6283765623586592, 0.6189052959798882, 0.6308278105289504, 0.6223100147159681, 0.633473279799632, 0.6294052620719737, 0.6374730961482491, 0.6379736858007146, 0.6422608547617791]\n"
     ]
    }
   ],
   "source": [
    "print(precision)\n",
    "print(recall)"
   ]
  },
  {
   "cell_type": "markdown",
   "metadata": {
    "id": "YzDKWD-LUPb6",
    "colab_type": "text"
   },
   "source": [
    "**Support Vector Machine (Guassian Kernel)**\n",
    "\n",
    "Implementation with Support Vector Machine with Gaussian Kernel has been attempted using Sequantial Minimal Optimization. A one versus rest approach was initially attemped, the precision was however only 40%. \n",
    "A possible issue causing the lower performance of one versus rest SVM is class imbalance, resulting from converting one class to positive class and rest 29 classes to negative class. While one versus one apporach is known to address this class imbalance isue, the number of one versus one SVMs that needs to be implemented is 29*30/2 = 435. \n",
    "\n",
    "Hence, not further implementation was attempted to extend the single SVM for classification of 30 classes. \n",
    "The code is attached for reference only. No experiment will be conduced using this implementation. \n"
   ]
  },
  {
   "cell_type": "code",
   "execution_count": 0,
   "metadata": {
    "id": "nyGz0_TuUOry",
    "colab_type": "code",
    "colab": {
     "autoexec": {
      "startup": false,
      "wait_interval": 0.0
     }
    }
   },
   "outputs": [],
   "source": [
    "\n",
    "#### DO NOT RUN ####\n",
    "\n",
    "#define the guassian kernel \n",
    "def rbf(xi,xj):\n",
    "    exponent = - gamma * np.linalg.norm(xi-xj) ** 2\n",
    "    return (np.exp(exponent))\n",
    "\n",
    "#update the alpha according to certain constraints\n",
    "def contraint( C, a_i, a_j, y_i, y_j):\n",
    "        if(y_i != y_j):\n",
    "            return (max(0, a_j - a_i), min(C, C - a_i + a_j))\n",
    "        else:\n",
    "            return (max(0, a_i + a_j - C), min(C, a_i + a_j))\n",
    "\n",
    "\n",
    "#updation rule \n",
    "def compute_error(x, y, w, b):\n",
    "    temp = (np.dot(w.T, x.T) + b)\n",
    "    temp = np.sign(temp).astype(int)\n",
    "    temp = temp -  y\n",
    "    return (temp)\n",
    "  \n",
    "  \n",
    "# initialize parameters\n",
    "m = X_train.shape[0] \n",
    "a = np.zeros(m)\n",
    "a_old = np.zeros(m)\n",
    "b = 0\n",
    "\n",
    "tol = 0.01\n",
    "num_changed_alphas = 0 \n",
    "passes = 0\n",
    "max_passes = 10\n",
    "C= 1\n",
    "gamma =0.03\n",
    "\n",
    "Y_train = onehotback(Y_train)\n",
    "Y_train[Y_train!=19] = -1 #convert the rest of the class into negative class \n",
    "Y_train[Y_train ==19] = 1 #convert one of the class into positive class \n",
    "\n",
    "\n",
    "from random import randint\n",
    "\n",
    "while (passes < max_passes):\n",
    "    changed_alphas=0 \n",
    "    print(passes)\n",
    "    passes = passes + 1\n",
    "    \n",
    "    for i in range(0,X_train.shape[0]):\n",
    "        w = np.dot(alpha*y, X)\n",
    "        b = y - np.dot(w.T, X.T)\n",
    "       \n",
    "        error_i = compute_error(x[i],y,w,b)\n",
    "        \n",
    "        if ((y[i]*error_i < -tol and a[i] < C ) or (y[i]*error_i > tol and a[i] > 0)):\n",
    "            \n",
    "            j = i\n",
    "            while (j == i):\n",
    "                j = randint(0, m)\n",
    "\n",
    "            error_j = compute_error(x[j],y[j],w,b)\n",
    "           \n",
    "            a_old[i] = a[i]\n",
    "            a_old[j] = a[j]\n",
    "            \n",
    "           \n",
    "            L,H = contraint(C,a[i],a[j],y[i],y[j])\n",
    "            \n",
    "            if (L == H):\n",
    "                continue\n",
    "            \n",
    "            n = 2*rbf(x[i],x[j]) - rbf(x[i],x[i]) - rbf(x[j],x[j])\n",
    "            \n",
    "            if (n >= 0):\n",
    "                continue \n",
    "            \n",
    "            a[j] = a[j] - y[j]*(error_i - error_j)/n\n",
    "             \n",
    "            if (a[j] > H):\n",
    "                a[j] = H\n",
    "            elif (a[j] < L):\n",
    "                a[j] = L\n",
    "            else:\n",
    "                a[j] = a[j]\n",
    "             \n",
    "            if (abs(a[j] - a_old[j]) < 0.00005):\n",
    "                continue\n",
    "            \n",
    "            a[i] = a[i] + y[i]*y[j]*(a_old[j] - a[j])\n",
    "            \n",
    "            b1 = b - error_i - y[i]*(a[i] - a_old[i])*rbf(x[i],x[i]) - y[j]*(a[j]-a_old[j])*rbf(x[i],x[j])\n",
    "            b2 = b - error_j - y[i]*(a[i] - a_old[i])*rbf(x[i],x[j]) - y[j]*(a[j]-a_old[j])*rbf(x[j],x[j])\n",
    "            \n",
    "            if (0<a[i]<C):\n",
    "                b = b1\n",
    "            elif (0<a[j]<C):\n",
    "                b = b2\n",
    "            else:\n",
    "                b = (b1+b2)/2\n",
    "            \n",
    "            changed_alphas = changed_alphas + 1\n",
    "            #print(num_changed_alphas)\n",
    "    \n",
    "    \n",
    "        passes = passes + 1\n",
    "\n",
    "\n",
    "    \n",
    "predicted=np.sign(np.dot(w.T, X_test.T) + b).astype(int)\n",
    "   "
   ]
  },
  {
   "cell_type": "markdown",
   "metadata": {
    "id": "ev9zV335hv0m",
    "colab_type": "text"
   },
   "source": [
    "## C. Experiments and Results "
   ]
  },
  {
   "cell_type": "markdown",
   "metadata": {
    "id": "hWFnjiN2iG1M",
    "colab_type": "text"
   },
   "source": [
    "### Accuracy"
   ]
  },
  {
   "cell_type": "markdown",
   "metadata": {
    "id": "aNGodqZ0yrGX",
    "colab_type": "text"
   },
   "source": [
    "**Mean Precision and Recall**\n",
    "\n",
    "Below report the average precision and recall associated with each classifer, calculated using 10 folds cross - validation as shown in the previous section. \n",
    "\n",
    "Runtime of each classifier is included in bracket. The runtime is defined as the time to train the classifer on one fold of training data. \n",
    "\n",
    "Specification of computer used for performance evalution:\n",
    "\n",
    "Hardware:\n",
    "CPU :1.6 GHz Intel Core i5, Memory : 4 GB 1600 MHz DDR3\n",
    "\n",
    "Software: Google Colab"
   ]
  },
  {
   "cell_type": "markdown",
   "metadata": {
    "id": "2ggc68nniKM8",
    "colab_type": "text"
   },
   "source": [
    "\n",
    "Multiclass Logistic Regression **(152 seconds)**\n",
    "*   Precision:  mean = 0.5961 , SD = 0.0025\n",
    "*   Recall: mean = 0.5554 , SD = 0.0009\n",
    "\n",
    "Naive Bayes (Binary) **(7 seconds)**\n",
    "*   Precision: mean = 0.5989, SD = 0.0082\n",
    "*   Recall: mean = 0.5870, SD = 0.0088\n",
    "\n",
    "Naive Bayes (TD-IDF) **(7 seconds)**\n",
    "*   Precision: mean = 0.5724, SD = 0.0083\n",
    "*   Recall: mean = 0.5637, SD = 0.0094\n",
    "\n",
    "Multiclass Linear Regression **(8 seconds)**\n",
    "*   Precision: mean = 0.6369, SD = 0.0093\n",
    "*   Recall: mean = 0.6321, SD = 0.0072\n",
    "\n",
    "\n",
    "\n",
    "\n",
    "\n"
   ]
  },
  {
   "cell_type": "markdown",
   "metadata": {
    "id": "KhwWRKNwE8Iy",
    "colab_type": "text"
   },
   "source": [
    "**Per Class Precision **\n",
    "\n",
    "Precision for each individual class was calculated and reported in the table below. Highlighted cells shown precision <0.50. "
   ]
  },
  {
   "cell_type": "code",
   "execution_count": 45,
   "metadata": {
    "id": "l4aS8i1a6256",
    "colab_type": "code",
    "colab": {
     "autoexec": {
      "startup": false,
      "wait_interval": 0.0
     },
     "base_uri": "https://localhost:8080/",
     "height": 867.0
    },
    "outputId": "5f31859b-91ab-43db-cad9-7e8f5198470c",
    "executionInfo": {
     "status": "ok",
     "timestamp": 1.525584542478E12,
     "user_tz": -600.0,
     "elapsed": 1759.0,
     "user": {
      "displayName": "Yue Cao",
      "photoUrl": "https://lh3.googleusercontent.com/a/default-user=s128",
      "userId": "104957148150622008767"
     }
    }
   },
   "outputs": [
    {
     "data": {
      "image/png": "[encoded data removed]",
      "text/plain": [
       "<matplotlib.figure.Figure at 0x7f67b4c639e8>"
      ]
     },
     "metadata": {
      "tags": []
     },
     "output_type": "display_data"
    }
   ],
   "source": [
    "####Do NOT RUN####\n",
    "\n",
    "img = Image.open('table (1).png')\n",
    "plt.figure(figsize=(25,15))\n",
    "plt.imshow(img)\n",
    "plt.axis('off')\n",
    "plt.show()"
   ]
  },
  {
   "cell_type": "markdown",
   "metadata": {
    "id": "y_xa-3K1iUS_",
    "colab_type": "text"
   },
   "source": [
    "### Extensive Analysis\n",
    "\n"
   ]
  },
  {
   "cell_type": "markdown",
   "metadata": {
    "id": "avGE-c9zieOc",
    "colab_type": "text"
   },
   "source": [
    "Helper function to upload figures"
   ]
  },
  {
   "cell_type": "code",
   "execution_count": 0,
   "metadata": {
    "id": "5nbOK88yzNGp",
    "colab_type": "code",
    "colab": {
     "autoexec": {
      "startup": false,
      "wait_interval": 0.0
     }
    }
   },
   "outputs": [],
   "source": [
    "import matplotlib.pyplot as plt \n",
    "from PIL import Image\n",
    "from google.colab import files"
   ]
  },
  {
   "cell_type": "code",
   "execution_count": 0,
   "metadata": {
    "id": "r0SL0MI65O_i",
    "colab_type": "code",
    "colab": {
     "autoexec": {
      "startup": false,
      "wait_interval": 0.0
     }
    }
   },
   "outputs": [],
   "source": [
    "\n",
    "uploaded = files.upload()\n",
    "for k, v in uploaded.items():\n",
    "    open(k, 'wb').write(v)"
   ]
  },
  {
   "cell_type": "markdown",
   "metadata": {
    "id": "yiZXx5MmdNvG",
    "colab_type": "text"
   },
   "source": [
    "**Hyperparameter Analysis **\n",
    "\n",
    "Apart from the single reported accuracy in the above section, extensive analysis was also carried out with logistic regression involving hyperparameter tuning. Two hyperparameters were tuned in this study, the regularization coefficient and the number of epochs. Regularization controls the weights of the features. An overly small regularization term may over reduce the weights towards zero, leading to over simplified model. In contrast, an overly large regularization term may not place enough constraint to the model, leading to a model that may overfit. \n",
    "In this study,  lambda in the range of 0 to 20 was initially tested. This larger value span help to detect a narrower range of value to then fine tune. At the range 0 to 20, it was observed that the accuracy rapidly decreases from value beyond 1. Hence a set of smaller values ranging from 0 to 1 were tested and precision on validation set is shown in the figure below. The figure suggested that lambda of value 0.06 provides the best validation precision. This is also the default lambda used in the previous classification section. \n",
    "\n",
    "\n"
   ]
  },
  {
   "cell_type": "code",
   "execution_count": 60,
   "metadata": {
    "id": "FX7n3V9ydOEG",
    "colab_type": "code",
    "colab": {
     "autoexec": {
      "startup": false,
      "wait_interval": 0.0
     },
     "base_uri": "https://localhost:8080/",
     "height": 350.0
    },
    "outputId": "299a6c6a-17b3-4137-af89-1d92730dfaa7",
    "executionInfo": {
     "status": "ok",
     "timestamp": 1.525443503181E12,
     "user_tz": -600.0,
     "elapsed": 1075.0,
     "user": {
      "displayName": "Yue Cao",
      "photoUrl": "https://lh3.googleusercontent.com/a/default-user=s128",
      "userId": "104957148150622008767"
     }
    }
   },
   "outputs": [
    {
     "data": {
      "image/png": "[encoded data removed]",
      "text/plain": [
       "<matplotlib.figure.Figure at 0x7fe6ec541dd8>"
      ]
     },
     "metadata": {
      "tags": []
     },
     "output_type": "display_data"
    }
   ],
   "source": [
    "####Do NOT RUN####\n",
    "\n",
    "img = Image.open('hyperparam (1).png')\n",
    "plt.imshow(img)\n",
    "plt.axis('off')\n",
    "plt.show()"
   ]
  },
  {
   "cell_type": "markdown",
   "metadata": {
    "id": "aTzd1cs2WZpb",
    "colab_type": "text"
   },
   "source": [
    "**Figure 3** Lambda versus validation accuracy "
   ]
  },
  {
   "cell_type": "markdown",
   "metadata": {
    "id": "ATFUv4eJDWFF",
    "colab_type": "text"
   },
   "source": [
    "The number of epochs was also analysed. It was initially suspected that greater number of epochs might lead to more complicated model that overfit. The figure below plots the losses in smooth line and accuracy in dotted line with increasing number of epochs. The figure suggested that while increasing the number of epochs did not cause drop in validation accuracy, it was nevertheless unnecessary to continue training. The default number of epochs was decided to be 4. \n",
    "\n"
   ]
  },
  {
   "cell_type": "code",
   "execution_count": 61,
   "metadata": {
    "id": "EP9C_YzYg5ii",
    "colab_type": "code",
    "colab": {
     "autoexec": {
      "startup": false,
      "wait_interval": 0.0
     },
     "base_uri": "https://localhost:8080/",
     "height": 325.0
    },
    "outputId": "bc3c81c4-ed01-45e3-ebe0-7de40e076fc7",
    "executionInfo": {
     "status": "ok",
     "timestamp": 1.525443510946E12,
     "user_tz": -600.0,
     "elapsed": 751.0,
     "user": {
      "displayName": "Yue Cao",
      "photoUrl": "https://lh3.googleusercontent.com/a/default-user=s128",
      "userId": "104957148150622008767"
     }
    }
   },
   "outputs": [
    {
     "data": {
      "image/png": "[encoded data removed]",
      "text/plain": [
       "<matplotlib.figure.Figure at 0x7fe6ec5519e8>"
      ]
     },
     "metadata": {
      "tags": []
     },
     "output_type": "display_data"
    }
   ],
   "source": [
    "####Do NOT RUN####\n",
    "\n",
    "img = Image.open('epoch.png')\n",
    "plt.imshow(img)\n",
    "plt.axis('off')\n",
    "plt.show()"
   ]
  },
  {
   "cell_type": "markdown",
   "metadata": {
    "id": "Jomi1U0HWkbo",
    "colab_type": "text"
   },
   "source": [
    "**Figure 4.**  Loss and validation accuracy versus number of epoch. Loss is shown in smooth line, accuracy is shown in dotted line"
   ]
  },
  {
   "cell_type": "markdown",
   "metadata": {
    "id": "zr4PANR3tzND",
    "colab_type": "text"
   },
   "source": [
    "Similarity, the regularization term in ridge linear regression was also tuned and the best number set as default in the classification section. "
   ]
  },
  {
   "cell_type": "code",
   "execution_count": 95,
   "metadata": {
    "id": "0WQ-HYrK_i2l",
    "colab_type": "code",
    "colab": {
     "autoexec": {
      "startup": false,
      "wait_interval": 0.0
     },
     "base_uri": "https://localhost:8080/",
     "height": 350.0
    },
    "outputId": "38ec1ee4-ee9d-4130-cb0c-8d9f57706a78",
    "executionInfo": {
     "status": "ok",
     "timestamp": 1.525517907882E12,
     "user_tz": -600.0,
     "elapsed": 1072.0,
     "user": {
      "displayName": "Yue Cao",
      "photoUrl": "https://lh3.googleusercontent.com/a/default-user=s128",
      "userId": "104957148150622008767"
     }
    }
   },
   "outputs": [
    {
     "data": {
      "image/png": "[encoded data removed]",
      "text/plain": [
       "<matplotlib.figure.Figure at 0x7f78c8400d68>"
      ]
     },
     "metadata": {
      "tags": []
     },
     "output_type": "display_data"
    }
   ],
   "source": [
    "####Do NOT RUN####\n",
    "\n",
    "img = Image.open('linear.png')\n",
    "plt.imshow(img)\n",
    "plt.axis('off')\n",
    "plt.show()"
   ]
  },
  {
   "cell_type": "markdown",
   "metadata": {
    "id": "X-iRtBQMW1LR",
    "colab_type": "text"
   },
   "source": [
    "**Figure** **5. ** \n",
    "Lambda versus validation accuracy "
   ]
  },
  {
   "cell_type": "markdown",
   "metadata": {
    "id": "ssv3Z_1jNORy",
    "colab_type": "text"
   },
   "source": [
    "**Comparison to Sklearn implementation **\n",
    "\n",
    "The Sklearn package in Python is one of the most widely used source for machine learning algorithms. In this section, the Sklearn implementation of Naive Bayes, Linear Regression and Logistic Regression is used to allow a comparison of model performance. \n",
    "\n"
   ]
  },
  {
   "cell_type": "code",
   "execution_count": 0,
   "metadata": {
    "id": "BdE6_QgCOIH2",
    "colab_type": "code",
    "colab": {
     "autoexec": {
      "startup": false,
      "wait_interval": 0.0
     }
    }
   },
   "outputs": [],
   "source": [
    "from sklearn import linear_model\n",
    "from sklearn.naive_bayes import GaussianNB\n",
    "from sklearn.linear_model import LogisticRegression\n",
    "X_train,X_test,Y_train,Y_test = Kcrossvalidation(1)"
   ]
  },
  {
   "cell_type": "markdown",
   "metadata": {
    "id": "0k7JDMssPjKC",
    "colab_type": "text"
   },
   "source": [
    "The following code runs Sklearn's implementation of Naive Bayes. Compared to Sklearn's precision of 36%, our implementation achieved a precision of 60%, which is 67% better. "
   ]
  },
  {
   "cell_type": "code",
   "execution_count": 85,
   "metadata": {
    "id": "4OD_VsOTOI9N",
    "colab_type": "code",
    "colab": {
     "autoexec": {
      "startup": false,
      "wait_interval": 0.0
     },
     "base_uri": "https://localhost:8080/",
     "height": 52.0
    },
    "outputId": "5af7d942-9142-47af-b6f8-9b7fdcb2745d",
    "executionInfo": {
     "status": "ok",
     "timestamp": 1.525606360872E12,
     "user_tz": -600.0,
     "elapsed": 2884.0,
     "user": {
      "displayName": "Yue Cao",
      "photoUrl": "https://lh3.googleusercontent.com/a/default-user=s128",
      "userId": "104957148150622008767"
     }
    }
   },
   "outputs": [
    {
     "name": "stdout",
     "output_type": "stream",
     "text": [
      "0.36681053874119457\n",
      "0.3779659794520277\n"
     ]
    }
   ],
   "source": [
    "gnb = GaussianNB()\n",
    "Y_train_NB = onehotback(Y_train)\n",
    "y_predicted= gnb.fit(X_train, Y_train_NB).predict(X_test)\n",
    "y_test_NB = onehotback(Y_test)\n",
    "score = precision_recall(y_test_NB,y_predicted)\n",
    "print(np.mean(score[0]))\n",
    "print(np.mean(score[1]))"
   ]
  },
  {
   "cell_type": "markdown",
   "metadata": {
    "id": "RpytTDjzQUAg",
    "colab_type": "text"
   },
   "source": [
    "The following code runs Linear Regression. Our implementation achieved a precision of 64%, which is still better than Sklearn's implementation. "
   ]
  },
  {
   "cell_type": "code",
   "execution_count": 86,
   "metadata": {
    "id": "pvQ69e0DOaqJ",
    "colab_type": "code",
    "colab": {
     "autoexec": {
      "startup": false,
      "wait_interval": 0.0
     },
     "base_uri": "https://localhost:8080/",
     "height": 52.0
    },
    "outputId": "37fd40ce-81fd-464f-eacd-73a77ce9a569",
    "executionInfo": {
     "status": "ok",
     "timestamp": 1.525606413886E12,
     "user_tz": -600.0,
     "elapsed": 29782.0,
     "user": {
      "displayName": "Yue Cao",
      "photoUrl": "https://lh3.googleusercontent.com/a/default-user=s128",
      "userId": "104957148150622008767"
     }
    }
   },
   "outputs": [
    {
     "name": "stdout",
     "output_type": "stream",
     "text": [
      "0.6055110368035923\n",
      "0.6073997107919133\n"
     ]
    }
   ],
   "source": [
    "regr = linear_model.LinearRegression()\n",
    "y_predicted = regr.fit(X_train, Y_train).predict(X_test)\n",
    "y_predicted_Linear = np.argmax(y_predicted,axis=1)\n",
    "y_test_linear = onehotback(Y_test)\n",
    "score = precision_recall(y_test_linear,y_predicted_Linear)\n",
    "print(np.mean(score[0]))\n",
    "print(np.mean(score[1]))"
   ]
  },
  {
   "cell_type": "markdown",
   "metadata": {
    "id": "HQ0Ri8JvQjCp",
    "colab_type": "text"
   },
   "source": [
    "Sklearn slightly outperforms our implementation on Logistic Regression, with a precision 2.5% better than our implementation. Of the three implemented classifiers, Logistic Regression is the hardest one to tune due to having the most number of hyparameters. In this study, only lambda and number of epochs was tune. The rest of the hyperparamters including learning rate, size of mini-batch and decision over lasso versus ridge have not yet been tuned. These could all contribute to the reason why our implementation failed to surpass Sklearn."
   ]
  },
  {
   "cell_type": "code",
   "execution_count": 87,
   "metadata": {
    "id": "_kWJ4AlwOjHy",
    "colab_type": "code",
    "colab": {
     "autoexec": {
      "startup": false,
      "wait_interval": 0.0
     },
     "base_uri": "https://localhost:8080/",
     "height": 52.0
    },
    "outputId": "168348f7-1162-487a-fb6a-6bef17802a6b",
    "executionInfo": {
     "status": "ok",
     "timestamp": 1.525606430057E12,
     "user_tz": -600.0,
     "elapsed": 15736.0,
     "user": {
      "displayName": "Yue Cao",
      "photoUrl": "https://lh3.googleusercontent.com/a/default-user=s128",
      "userId": "104957148150622008767"
     }
    }
   },
   "outputs": [
    {
     "name": "stdout",
     "output_type": "stream",
     "text": [
      "0.6251515417545931\n",
      "0.6365366820033492\n"
     ]
    }
   ],
   "source": [
    "logreg = LogisticRegression()\n",
    "\n",
    "Y_train_log = onehotback(Y_train)\n",
    "y_predicted_log = logreg.fit(X_train, Y_train_log).predict(X_test)\n",
    "y_test_log = onehotback(Y_test)\n",
    "\n",
    "score=precision_recall(y_test_log, y_predicted_log)\n",
    "print(np.mean(score[0]))\n",
    "print(np.mean(score[1]))"
   ]
  },
  {
   "cell_type": "markdown",
   "metadata": {
    "id": "4T5TvQ5sDbhK",
    "colab_type": "text"
   },
   "source": [
    "**Analysis of Per Class Precision**\n",
    "\n",
    "The table provided in the accuracy section presents precision of each class across three classifiers. It can be seen from the table that while most classes has good prediction under the three classifiers, there are a few classes such as Medical (index 3) and Finance (index 22) that has less than 0.5 accuracy  across all the three classifiers. This consistency in low accuracy across classifiers suggests that the problem may lie in the feature selection stage, rather than in the choice of classifiers. Hence, analysis of the discarded features versus class precision was carried out. For each class, the total number of times that an excluded features appear in the class was computed. To make this statement clearer, consider column 2 being the discarded feature with 5 values, of which 3 values appear in ‘Education’ apps. The number of discarded feature in ‘Education’ apps is then counted as 3, the total number of times that this feature appear in a class, instead of 1, the number of distinct features that are discarded in this class.\n",
    "\n",
    "The figure below plots discarded features versus precision for each class. Blue line represents precision of each class and red line represents the total number of times the discarded features occur in each class. It can be seen that for most classes, the height of the two lines are in opposite of each other. The lower the precision (blue line),  the higher the total number of discarded feature (red line), and vice versa. \n"
   ]
  },
  {
   "cell_type": "code",
   "execution_count": 48,
   "metadata": {
    "id": "Z7lQfYFU8iSL",
    "colab_type": "code",
    "colab": {
     "autoexec": {
      "startup": false,
      "wait_interval": 0.0
     },
     "base_uri": "https://localhost:8080/",
     "height": 343.0
    },
    "cellView": "code",
    "outputId": "f3d2765b-4f6c-48c1-a636-666d7b91c715",
    "executionInfo": {
     "status": "ok",
     "timestamp": 1.525585998988E12,
     "user_tz": -600.0,
     "elapsed": 784.0,
     "user": {
      "displayName": "Yue Cao",
      "photoUrl": "https://lh3.googleusercontent.com/a/default-user=s128",
      "userId": "104957148150622008767"
     }
    }
   },
   "outputs": [
    {
     "data": {
      "image/png": "[encoded data removed]",
      "text/plain": [
       "<matplotlib.figure.Figure at 0x7f67b3b37320>"
      ]
     },
     "metadata": {
      "tags": []
     },
     "output_type": "display_data"
    }
   ],
   "source": [
    "####Do NOT RUN####\n",
    "\n",
    "img = Image.open('checkfeature.png')\n",
    "plt.imshow(img)\n",
    "plt.axis('off')\n",
    "plt.show()\n"
   ]
  },
  {
   "cell_type": "markdown",
   "metadata": {
    "id": "ZXNJ6i-MW_aT",
    "colab_type": "text"
   },
   "source": [
    "**Figure 6.**  Comparison of discarded features versus class precision. Y-axis shows index of each class, for the name of the class, please refer to the table in the previous section.  To interpret this figure: index 0 represents the class Education.  Blue line shows the precision of this class is 0.68, red line shows that from all the discarded features (words),  a total of 4100 words appear in this class."
   ]
  },
  {
   "cell_type": "markdown",
   "metadata": {
    "id": "NHyWvxoDtRdh",
    "colab_type": "text"
   },
   "source": [
    "## D. Export Results "
   ]
  },
  {
   "cell_type": "markdown",
   "metadata": {
    "id": "RWWTlA4qrDwe",
    "colab_type": "text"
   },
   "source": [
    "URL address of the \"predicted_labels.csv\"\n",
    "\n",
    "https://drive.google.com/open?id=1FgAkOz_18gj3M1N5VsDb8oly_G3DJ5Sz"
   ]
  },
  {
   "cell_type": "markdown",
   "metadata": {
    "id": "uXZAVRAOq9io",
    "colab_type": "text"
   },
   "source": [
    "The following code demonstrates how the labels are producted from the test data"
   ]
  },
  {
   "cell_type": "markdown",
   "metadata": {
    "id": "4bqkUCaErOMm",
    "colab_type": "text"
   },
   "source": [
    "First, the test data is read into the system. The same feature extraction method used in training data is then applied to this test data. "
   ]
  },
  {
   "cell_type": "code",
   "execution_count": 26,
   "metadata": {
    "id": "xY5bm-4wo7L6",
    "colab_type": "code",
    "colab": {
     "autoexec": {
      "startup": false,
      "wait_interval": 0.0
     },
     "base_uri": "https://localhost:8080/",
     "height": 34.0
    },
    "outputId": "63bb1507-612d-4bcf-8c44-719a273f636a",
    "executionInfo": {
     "status": "ok",
     "timestamp": 1.52557996086E12,
     "user_tz": -600.0,
     "elapsed": 298.0,
     "user": {
      "displayName": "Yue Cao",
      "photoUrl": "https://lh3.googleusercontent.com/a/default-user=s128",
      "userId": "104957148150622008767"
     }
    }
   },
   "outputs": [
    {
     "data": {
      "text/plain": [
       "(2233, 3371)"
      ]
     },
     "execution_count": 26,
     "metadata": {
      "tags": []
     },
     "output_type": "execute_result"
    }
   ],
   "source": [
    "\n",
    "SS = dok_matrix((2233,13626), dtype=float32)\n",
    "f = open(\"test_data.csv\",'r')\n",
    "reader = csv.reader(f)\n",
    "i = 0\n",
    "testapp = []\n",
    "for line in reader:\n",
    "    #print(i)\n",
    "    SS[i] = line[1:13627]\n",
    "    testapp.append(line[0])\n",
    "    i = i+1\n",
    "\n",
    "SS_edited = SS[:,index]\n",
    "SS_edited.shape #check the data is in correct shape\n"
   ]
  },
  {
   "cell_type": "markdown",
   "metadata": {
    "id": "BrsTwBdKrZ3z",
    "colab_type": "text"
   },
   "source": [
    "One fold training data is used to predict the test data using one of the classifier."
   ]
  },
  {
   "cell_type": "code",
   "execution_count": 0,
   "metadata": {
    "id": "MJMMkhNap3NA",
    "colab_type": "code",
    "colab": {
     "autoexec": {
      "startup": false,
      "wait_interval": 0.0
     }
    }
   },
   "outputs": [],
   "source": [
    "SS_edited = SS_edited.toarray()\n",
    "X_train,X_test,Y_train,Y_test = Kcrossvalidation(1)\n",
    "predicted = linear(X_train,Y_train,SS_edited)\n",
    "y_test = onehotback(Y_test)\n",
    "y_predicted = onehotback(predicted)"
   ]
  },
  {
   "cell_type": "markdown",
   "metadata": {
    "id": "thoL6fburodc",
    "colab_type": "text"
   },
   "source": [
    "The numerical label is mapped back to the propoer label. For example, 24 is mapped to Health and Fitness"
   ]
  },
  {
   "cell_type": "code",
   "execution_count": 0,
   "metadata": {
    "id": "qn73Q2SDpakT",
    "colab_type": "code",
    "colab": {
     "autoexec": {
      "startup": false,
      "wait_interval": 0.0
     }
    }
   },
   "outputs": [],
   "source": [
    "inverse = {v: k for k, v in dicts.items()}\n",
    "savelabel = []\n",
    "for i in y_predicted:\n",
    "    templabel = inverse[i]\n",
    "    savelabel.append(templabel)"
   ]
  },
  {
   "cell_type": "markdown",
   "metadata": {
    "id": "Q17h-1k3r0pV",
    "colab_type": "text"
   },
   "source": [
    "The label is then appended with the app name and wrote to csv"
   ]
  },
  {
   "cell_type": "code",
   "execution_count": 34,
   "metadata": {
    "id": "nb9d4SL_plCO",
    "colab_type": "code",
    "colab": {
     "autoexec": {
      "startup": false,
      "wait_interval": 0.0
     },
     "base_uri": "https://localhost:8080/",
     "height": 138.0
    },
    "outputId": "4c197f20-34f7-4988-94e1-ecc85c8c414b",
    "executionInfo": {
     "status": "ok",
     "timestamp": 1.525580213884E12,
     "user_tz": -600.0,
     "elapsed": 833.0,
     "user": {
      "displayName": "Yue Cao",
      "photoUrl": "https://lh3.googleusercontent.com/a/default-user=s128",
      "userId": "104957148150622008767"
     }
    }
   },
   "outputs": [
    {
     "name": "stdout",
     "output_type": "stream",
     "text": [
      "[['dalmax.games.turnBasedGames.connect4' 'Brain and Puzzle']\n",
      " ['com.holfeld.japaneseplusfree' 'Travel and Local']\n",
      " ['com.mobileApp.controller' 'Personalization']\n",
      " ...\n",
      " ['com.daeha.android.app.repeat_ja_ko' 'Books and Reference']\n",
      " ['com.sec.android.allShareControl' 'Media and Video']\n",
      " ['com.mobileriders.butt.sculpting.exercises' 'Health and Fitness']]\n"
     ]
    }
   ],
   "source": [
    "finallabel = np.column_stack((testapp,savelabel))\n",
    "np.savetxt(\"predicted_labels.csv\",finallabel , delimiter=\",\",fmt='%s')\n",
    "print(finallabel)\n"
   ]
  },
  {
   "cell_type": "markdown",
   "metadata": {
    "id": "NT_Xb_WFjb5T",
    "colab_type": "text"
   },
   "source": [
    "https://drive.google.com/open?id=1FgAkOz_18gj3M1N5VsDb8oly_G3DJ5Sz"
   ]
  },
  {
   "cell_type": "markdown",
   "metadata": {
    "id": "z9tuqCpZigo1",
    "colab_type": "text"
   },
   "source": [
    "## E. Discussion "
   ]
  },
  {
   "cell_type": "markdown",
   "metadata": {
    "id": "NXwLgIecsBBK",
    "colab_type": "text"
   },
   "source": [
    "\n",
    "In this study, Logistic Regression, Naïve Bayes and Linear Regression are implemented, with mean precision 60%, 60% and 64% respectively. \n",
    "\n",
    "Both Logistic Regression and Naïve Bayes are linear classifiers, with logistic regression being discriminative classifier and the latter being discriminative. \n",
    "\n",
    "Naive Bayes holds strong assumption of distributed independence between features. If two features are correlated, Naïve Bayes will give both features higher weights, leading to overestimation of the final probability. In comparison, logistic regression does not have such underlying assumption and can handle correlated features by reweighting the correlated features. It has been stated in literature that independency is usually not violated in text classification problem. This may suggests one of the reasons that both Naïve Bayes and Logistic Regression perform similarity in this task.[10] \n",
    "\n",
    "In addition to feature correlation that is found to affect performance, literature also states the number of training example being a contributor of model accuracy.[4] It is found that Logistic Regression requires more samples to reach its asymptotic error compared to Naïve Bayes. Naïve Bayes and Logistic Regression thus have similar performance when the number of training instances is small, yet Logistic Regression prevails in performance as the number of training instances grows. Hence, another reason accounting for similar performance is that the number of training examples is yet sufficient for Logistic Regression to reach its asymptotic error. \n",
    "\n",
    "In this study, Linear Regression outperformed both Logistic Regression and Naïve Bayes. Linear Regression has been raised in literature as an unsuitable method for multi-class prediction due masking problem. This issue, however, did not arise for the particular dataset used in this study. The table in previous section shown that the precision for each class is comparable to Logistic Regression and Naïve Bayes, with no particular class exhibiting signs of masking effect. \n",
    "\n",
    "\n"
   ]
  },
  {
   "cell_type": "markdown",
   "metadata": {
    "id": "kViLL0fEirga",
    "colab_type": "text"
   },
   "source": [
    "## F. Conclusion and future work "
   ]
  },
  {
   "cell_type": "markdown",
   "metadata": {
    "id": "A9TLYEY7ATyq",
    "colab_type": "text"
   },
   "source": [
    "In this study, we implemented three common classification algorithms, Multiclass Logistic Regression, Naïve Bayes and Multiclass Linear Regression. For this particular given dataset, Logistic Regression and Naïve Bayes achieved identical precision, with Naïve Bayes having slightly higher recall. Multiclass Linear Regression outperformed both classifiers in terms of precision and recall and was not found to suffer from masking problem. \n",
    "\n",
    "In this study, the numbers of excluded features were found to be non - uniform across each class, resulting in classes with more excluded features having lower precision. For future work, different approaches of dimension reduction and feature extraction algorithm can be explored to examine effect on per class performance.  \n",
    "\n",
    "The dataset used in this study is found to have well balanced sample size across each class. Further experimentation would involve testing the same set of classifiers on an unbalanced data and compare and contrast their performance on balanced versus unbalanced data. \n",
    "\n",
    "Lastly, all the classifiers implemented in this study are linear classifiers. It is of interest to see how non-linear classifiers perform on this particular dataset. Future work could be done on implementing non – linear classifiers such as decision tree. \n",
    "\n"
   ]
  },
  {
   "cell_type": "markdown",
   "metadata": {
    "id": "il1S9xh5suYH",
    "colab_type": "text"
   },
   "source": [
    "## G. References"
   ]
  },
  {
   "cell_type": "markdown",
   "metadata": {
    "id": "tB9UVjbwtCRW",
    "colab_type": "text"
   },
   "source": [
    "\n",
    "1.   Friedman, J. H. (1997). On bias, variance, 0/1—loss, and the curse-of-dimensionality. Data mining and knowledge discovery, 1(1), 55-77.\n",
    "2.   Hilbig, B. E., & Moshagen, M. (2014). Generalized outcome-based strategy classification: Comparing deterministic and probabilistic choice models. Psychonomic bulletin & review, 21(6), 1431-1443.\n",
    "3. Böhning, D. (1992). Multinomial logistic regression algorithm. Annals of the Institute of Statistical Mathematics, 44(1), 197-200.\n",
    "4. Ng, A. Y., & Jordan, M. I. (2002). On discriminative vs. generative classifiers: A comparison of logistic regression and naive bayes. In Advances in neural information processing systems,  841-848.\n",
    "5. Murphy, K. P. (2006). Naive bayes classifiers. University of British Columbia, 18.\n",
    "6. D. Jurafsky and J. H. Martin, (2000). Speech and Language Processing: An Introduction to Natural Language Processing, Computational Linguistics, and Speech Recognition, Prentice-Hall, Upper Saddle River, NJ,.\n",
    "7. Collins, M., Schapire, R. E., & Singer, Y. (2002). Logistic regression, AdaBoost and Bregman distances. Machine Learning, 48(1-3), 253-285.\n",
    "8. Friedman, J., Hastie, T., & Tibshirani, R. (2001). The elements of statistical learning (Vol. 1, pp. 337-387). New York: Springer series in statistics.\n",
    "9. Zhang, C.M., Fu, H., (2006). Masking effects on linear regression in multi-class classification. Statist. Probab. Lett. 76, 1800–1807\n",
    "10. Zhang, H. (2004). “The Optimality of Naive Bayes.,” in FLAIRS Conference, AAAI Press.\n"
   ]
  }
 ],
 "metadata": {
  "colab": {
   "name": "Assignment 1_ycao6928_ssun9611_rche8706.ipynb",
   "version": "0.3.2",
   "views": {},
   "default_view": {},
   "provenance": [
    {
     "file_id": "1riQwMaLR1_5gCPDRfOKm-gzKBWd95lJP",
     "timestamp": 1.524566655673E12
    }
   ],
   "collapsed_sections": []
  },
  "kernelspec": {
   "name": "python3",
   "display_name": "Python 3"
  }
 },
 "nbformat": 4,
 "nbformat_minor": 0
}
